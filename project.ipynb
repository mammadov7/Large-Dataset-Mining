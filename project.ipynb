{
 "cells": [
  {
   "cell_type": "code",
   "execution_count": 1,
   "metadata": {},
   "outputs": [],
   "source": [
    "import pandas as pd\n",
    "import numpy as np\n",
    "import matplotlib.pyplot as plt\n",
    "import seaborn as sns\n",
    "from sklearn.model_selection import train_test_split\n",
    "import xgboost as xgb\n",
    "from xgboost import XGBClassifier\n",
    "from sklearn.model_selection import KFold, train_test_split\n",
    "from sklearn.metrics import confusion_matrix\n",
    "from sklearn.preprocessing import StandardScaler, normalize\n",
    "from catboost import CatBoostClassifier\n",
    "from sklearn.ensemble import RandomForestClassifier\n",
    "import tensorflow as tf\n",
    "from tensorflow import keras\n",
    "from tensorflow.keras import layers\n",
    "from keras_tuner.tuners import RandomSearch\n",
    "from keras_tuner.engine.hyperparameters import HyperParameters\n",
    "import time\n",
    "import pickle\n",
    "import tensorflow.keras\n",
    "from tensorflow.keras.models import Sequential\n",
    "from tensorflow.keras.layers import Dense, Activation, Dropout\n",
    "from tensorflow.keras.callbacks import EarlyStopping\n",
    "import sklearn\n",
    "from sklearn.metrics import accuracy_score \n",
    "from sklearn.metrics import confusion_matrix\n",
    "from sklearn.metrics import precision_recall_curve, average_precision_score\n",
    "from sklearn.metrics import roc_curve, auc"
   ]
  },
  {
   "cell_type": "markdown",
   "metadata": {},
   "source": [
    " # Loading the data"
   ]
  },
  {
   "cell_type": "code",
   "execution_count": 2,
   "metadata": {},
   "outputs": [],
   "source": [
    "def creating_dataset(filename):\n",
    "    df = pd.read_csv('dataset/'+str(filename), index_col=[0])\n",
    "    X = df.drop('DEP_DEL15', axis=1).drop(\"LONGITUDE\",axis=1).drop(\"LATITUDE\",axis=1)\n",
    "    y = df['DEP_DEL15']\n",
    "    x_train, x_test, y_train, y_test = train_test_split(X, y, test_size=0.33, random_state=42,shuffle=True)\n",
    "    x_train,x_test = scaleNorm(x_train,x_test)\n",
    "    return x_train,x_test,y_train,y_test\n",
    "\n",
    "def redoSplit(x,y):\n",
    "    x_train, x_test, y_train, y_test = train_test_split(x, y, test_size=0.33, random_state=42,shuffle=True)\n",
    "    return x_train,x_test,y_train,y_test\n",
    "\n",
    "def balancing_dataset(x_train,y_train,drop_per):\n",
    "    idx = np.where(y_train == 0)[0]\n",
    "    x_train = (x_train.drop(x_train.index[idx[:int(len(idx)*drop_per)]]))\n",
    "    y_train = (y_train.drop(y_train.index[idx[:int(len(idx)*drop_per)]]))\n",
    "    return x_train,y_train\n",
    "\n",
    "def standardize(x):\n",
    "    x = x.to_numpy()\n",
    "    x = (x- np.min(x,axis=0))/np.max(x,axis=0)\n",
    "    return x\n",
    "\n",
    "def scaleNorm(X_train,X_test):\n",
    "    X_train = standardize(X_train)\n",
    "    X_test = standardize(X_test)\n",
    "    return pd.DataFrame(X_train),pd.DataFrame(X_test)"
   ]
  },
  {
   "cell_type": "code",
   "execution_count": 3,
   "metadata": {
    "scrolled": true
   },
   "outputs": [],
   "source": [
    "X,x_real_test,Y,y_real_test = creating_dataset('datasetcleaned_full.csv')\n",
    "cols = pd.read_csv('dataset/datasetcleaned_full.csv', index_col=[0]).drop('DEP_DEL15', axis=1).drop(\"LONGITUDE\",axis=1).drop(\"LATITUDE\",axis=1).columns"
   ]
  },
  {
   "cell_type": "markdown",
   "metadata": {},
   "source": [
    " # Models"
   ]
  },
  {
   "cell_type": "code",
   "execution_count": 4,
   "metadata": {},
   "outputs": [
    {
     "name": "stdout",
     "output_type": "stream",
     "text": [
      "[[0.8053428  0.80484691]\n",
      " [0.1946572  0.19515309]]\n"
     ]
    }
   ],
   "source": [
    "#baseline\n",
    "y_pred = np.random.randint(0,2,Y.shape)\n",
    "cm = confusion_matrix(Y, y_pred)\n",
    "print(cm /np.sum(cm,axis=0))"
   ]
  },
  {
   "cell_type": "code",
   "execution_count": 5,
   "metadata": {
    "scrolled": false
   },
   "outputs": [
    {
     "name": "stderr",
     "output_type": "stream",
     "text": [
      "/Users/Diego/anaconda3/lib/python3.8/site-packages/xgboost/sklearn.py:1224: UserWarning: The use of label encoder in XGBClassifier is deprecated and will be removed in a future release. To remove this warning, do the following: 1) Pass option use_label_encoder=False when constructing XGBClassifier object; and 2) Encode your labels (y) as integers starting with 0, i.e. 0, 1, 2, ..., [num_class - 1].\n",
      "  warnings.warn(label_encoder_deprecation_msg, UserWarning)\n"
     ]
    },
    {
     "name": "stdout",
     "output_type": "stream",
     "text": [
      "[09:18:45] WARNING: /Users/travis/build/dmlc/xgboost/src/learner.cc:576: \n",
      "Parameters: { \"weight\" } might not be used.\n",
      "\n",
      "  This could be a false alarm, with some parameters getting used by language bindings but\n",
      "  then being mistakenly passed down to XGBoost core, or some parameter actually being used\n",
      "  but getting flagged wrongly here. Please open an issue if you find any such cases.\n",
      "\n",
      "\n",
      "[09:18:49] WARNING: /Users/travis/build/dmlc/xgboost/src/learner.cc:1115: Starting in XGBoost 1.3.0, the default evaluation metric used with the objective 'binary:logistic' was changed from 'error' to 'logloss'. Explicitly set eval_metric if you'd like to restore the old behavior.\n",
      "weighted [[0.820287   0.32659458]\n",
      " [0.179713   0.67340542]]\n",
      "[09:23:55] WARNING: /Users/travis/build/dmlc/xgboost/src/learner.cc:1115: Starting in XGBoost 1.3.0, the default evaluation metric used with the objective 'binary:logistic' was changed from 'error' to 'logloss'. Explicitly set eval_metric if you'd like to restore the old behavior.\n",
      "simple drop [[0.56548584 0.26026235]\n",
      " [0.43451416 0.73973765]]\n"
     ]
    }
   ],
   "source": [
    "#shuffling data\n",
    "x_train,x_val,y_train,y_val = redoSplit(X,Y)\n",
    "x,y = balancing_dataset(x_train,y_train,0.8)\n",
    "x_train_drop,x_test_drop,y_train_drop,y_test_drop = redoSplit(x,y)\n",
    "#with weights\n",
    "weights = y_train.to_numpy()*4 + 1\n",
    "xb_modelW = xgb.XGBClassifier(weight=weights)\n",
    "xb_modelW.fit(x_train, y_train)\n",
    "y_hat = xb_modelW.predict(x_val)\n",
    "cm = confusion_matrix(y_val, y_hat)\n",
    "print(\"weighted\",cm /np.sum(cm,axis=0))\n",
    "\n",
    "xgb_model = xgb.XGBClassifier()\n",
    "xgb_model.fit(x_train_drop,y_train_drop)\n",
    "y_pred_test = xgb_model.predict(x_test_drop)\n",
    "cm_test = confusion_matrix(y_pred_test,y_test_drop.to_numpy())\n",
    "print(\"simple drop\",cm_test /np.sum(cm_test,axis=0))"
   ]
  },
  {
   "cell_type": "code",
   "execution_count": 6,
   "metadata": {},
   "outputs": [
    {
     "name": "stdout",
     "output_type": "stream",
     "text": [
      "weigthed [[0.89709776 0.77216429]\n",
      " [0.10290224 0.22783571]]\n",
      "simple drop [[0.63904371 0.40381612]\n",
      " [0.36095629 0.59618388]]\n"
     ]
    }
   ],
   "source": [
    "#shuffling data\n",
    "x_train,x_val,y_train,y_val = redoSplit(X,Y)\n",
    "x,y = balancing_dataset(x_train,y_train,0.8)\n",
    "x_train_drop,x_test_drop,y_train_drop,y_test_drop = redoSplit(x,y)\n",
    "#with weights\n",
    "clf_RFW = RandomForestClassifier(max_depth=2, random_state=0,class_weight = {0:1,1:5})\n",
    "clf_RFW.fit(x_train, y_train)\n",
    "y_hat = clf_RFW.predict(x_val)\n",
    "cm = confusion_matrix(y_val, y_hat)\n",
    "print(\"weigthed\",cm /np.sum(cm,axis=0))\n",
    "\n",
    "#simple drop\n",
    "clf_RF = RandomForestClassifier(max_depth=2, random_state=0)\n",
    "clf_RF.fit(x_train_drop, y_train_drop)\n",
    "y_hat = clf_RF.predict(x_test_drop)\n",
    "cm = confusion_matrix(y_test_drop, y_hat)\n",
    "print(\"simple drop\",cm /np.sum(cm,axis=0))"
   ]
  },
  {
   "cell_type": "code",
   "execution_count": 11,
   "metadata": {},
   "outputs": [
    {
     "ename": "KeyboardInterrupt",
     "evalue": "",
     "output_type": "error",
     "traceback": [
      "\u001b[0;31m---------------------------------------------------------------------------\u001b[0m",
      "\u001b[0;31mKeyboardInterrupt\u001b[0m                         Traceback (most recent call last)",
      "\u001b[0;32m<ipython-input-11-a5043e09d4d2>\u001b[0m in \u001b[0;36m<module>\u001b[0;34m\u001b[0m\n\u001b[1;32m      1\u001b[0m \u001b[0;31m#shuffling data\u001b[0m\u001b[0;34m\u001b[0m\u001b[0;34m\u001b[0m\u001b[0;34m\u001b[0m\u001b[0m\n\u001b[0;32m----> 2\u001b[0;31m \u001b[0mx_train\u001b[0m\u001b[0;34m,\u001b[0m\u001b[0mx_val\u001b[0m\u001b[0;34m,\u001b[0m\u001b[0my_train\u001b[0m\u001b[0;34m,\u001b[0m\u001b[0my_val\u001b[0m \u001b[0;34m=\u001b[0m \u001b[0mredoSplit\u001b[0m\u001b[0;34m(\u001b[0m\u001b[0mX\u001b[0m\u001b[0;34m,\u001b[0m\u001b[0mY\u001b[0m\u001b[0;34m)\u001b[0m\u001b[0;34m\u001b[0m\u001b[0;34m\u001b[0m\u001b[0m\n\u001b[0m\u001b[1;32m      3\u001b[0m \u001b[0mx\u001b[0m\u001b[0;34m,\u001b[0m\u001b[0my\u001b[0m \u001b[0;34m=\u001b[0m \u001b[0mbalancing_dataset\u001b[0m\u001b[0;34m(\u001b[0m\u001b[0mx_train\u001b[0m\u001b[0;34m,\u001b[0m\u001b[0my_train\u001b[0m\u001b[0;34m,\u001b[0m\u001b[0;36m0.8\u001b[0m\u001b[0;34m)\u001b[0m\u001b[0;34m\u001b[0m\u001b[0;34m\u001b[0m\u001b[0m\n\u001b[1;32m      4\u001b[0m \u001b[0mx_train_drop\u001b[0m\u001b[0;34m,\u001b[0m\u001b[0mx_test_drop\u001b[0m\u001b[0;34m,\u001b[0m\u001b[0my_train_drop\u001b[0m\u001b[0;34m,\u001b[0m\u001b[0my_test_drop\u001b[0m \u001b[0;34m=\u001b[0m \u001b[0mredoSplit\u001b[0m\u001b[0;34m(\u001b[0m\u001b[0mx\u001b[0m\u001b[0;34m,\u001b[0m\u001b[0my\u001b[0m\u001b[0;34m)\u001b[0m\u001b[0;34m\u001b[0m\u001b[0;34m\u001b[0m\u001b[0m\n\u001b[1;32m      5\u001b[0m \u001b[0;34m\u001b[0m\u001b[0m\n",
      "\u001b[0;32m<ipython-input-2-373d4abe7c0b>\u001b[0m in \u001b[0;36mredoSplit\u001b[0;34m(x, y)\u001b[0m\n\u001b[1;32m      8\u001b[0m \u001b[0;34m\u001b[0m\u001b[0m\n\u001b[1;32m      9\u001b[0m \u001b[0;32mdef\u001b[0m \u001b[0mredoSplit\u001b[0m\u001b[0;34m(\u001b[0m\u001b[0mx\u001b[0m\u001b[0;34m,\u001b[0m\u001b[0my\u001b[0m\u001b[0;34m)\u001b[0m\u001b[0;34m:\u001b[0m\u001b[0;34m\u001b[0m\u001b[0;34m\u001b[0m\u001b[0m\n\u001b[0;32m---> 10\u001b[0;31m     \u001b[0mx_train\u001b[0m\u001b[0;34m,\u001b[0m \u001b[0mx_test\u001b[0m\u001b[0;34m,\u001b[0m \u001b[0my_train\u001b[0m\u001b[0;34m,\u001b[0m \u001b[0my_test\u001b[0m \u001b[0;34m=\u001b[0m \u001b[0mtrain_test_split\u001b[0m\u001b[0;34m(\u001b[0m\u001b[0mx\u001b[0m\u001b[0;34m,\u001b[0m \u001b[0my\u001b[0m\u001b[0;34m,\u001b[0m \u001b[0mtest_size\u001b[0m\u001b[0;34m=\u001b[0m\u001b[0;36m0.33\u001b[0m\u001b[0;34m,\u001b[0m \u001b[0mrandom_state\u001b[0m\u001b[0;34m=\u001b[0m\u001b[0;36m42\u001b[0m\u001b[0;34m,\u001b[0m\u001b[0mshuffle\u001b[0m\u001b[0;34m=\u001b[0m\u001b[0;32mTrue\u001b[0m\u001b[0;34m)\u001b[0m\u001b[0;34m\u001b[0m\u001b[0;34m\u001b[0m\u001b[0m\n\u001b[0m\u001b[1;32m     11\u001b[0m     \u001b[0;32mreturn\u001b[0m \u001b[0mx_train\u001b[0m\u001b[0;34m,\u001b[0m\u001b[0mx_test\u001b[0m\u001b[0;34m,\u001b[0m\u001b[0my_train\u001b[0m\u001b[0;34m,\u001b[0m\u001b[0my_test\u001b[0m\u001b[0;34m\u001b[0m\u001b[0;34m\u001b[0m\u001b[0m\n\u001b[1;32m     12\u001b[0m \u001b[0;34m\u001b[0m\u001b[0m\n",
      "\u001b[0;32m~/anaconda3/lib/python3.8/site-packages/sklearn/model_selection/_split.py\u001b[0m in \u001b[0;36mtrain_test_split\u001b[0;34m(*arrays, **options)\u001b[0m\n\u001b[1;32m   2152\u001b[0m         \u001b[0mtrain\u001b[0m\u001b[0;34m,\u001b[0m \u001b[0mtest\u001b[0m \u001b[0;34m=\u001b[0m \u001b[0mnext\u001b[0m\u001b[0;34m(\u001b[0m\u001b[0mcv\u001b[0m\u001b[0;34m.\u001b[0m\u001b[0msplit\u001b[0m\u001b[0;34m(\u001b[0m\u001b[0mX\u001b[0m\u001b[0;34m=\u001b[0m\u001b[0marrays\u001b[0m\u001b[0;34m[\u001b[0m\u001b[0;36m0\u001b[0m\u001b[0;34m]\u001b[0m\u001b[0;34m,\u001b[0m \u001b[0my\u001b[0m\u001b[0;34m=\u001b[0m\u001b[0mstratify\u001b[0m\u001b[0;34m)\u001b[0m\u001b[0;34m)\u001b[0m\u001b[0;34m\u001b[0m\u001b[0;34m\u001b[0m\u001b[0m\n\u001b[1;32m   2153\u001b[0m \u001b[0;34m\u001b[0m\u001b[0m\n\u001b[0;32m-> 2154\u001b[0;31m     return list(chain.from_iterable((_safe_indexing(a, train),\n\u001b[0m\u001b[1;32m   2155\u001b[0m                                      _safe_indexing(a, test)) for a in arrays))\n\u001b[1;32m   2156\u001b[0m \u001b[0;34m\u001b[0m\u001b[0m\n",
      "\u001b[0;32m~/anaconda3/lib/python3.8/site-packages/sklearn/model_selection/_split.py\u001b[0m in \u001b[0;36m<genexpr>\u001b[0;34m(.0)\u001b[0m\n\u001b[1;32m   2152\u001b[0m         \u001b[0mtrain\u001b[0m\u001b[0;34m,\u001b[0m \u001b[0mtest\u001b[0m \u001b[0;34m=\u001b[0m \u001b[0mnext\u001b[0m\u001b[0;34m(\u001b[0m\u001b[0mcv\u001b[0m\u001b[0;34m.\u001b[0m\u001b[0msplit\u001b[0m\u001b[0;34m(\u001b[0m\u001b[0mX\u001b[0m\u001b[0;34m=\u001b[0m\u001b[0marrays\u001b[0m\u001b[0;34m[\u001b[0m\u001b[0;36m0\u001b[0m\u001b[0;34m]\u001b[0m\u001b[0;34m,\u001b[0m \u001b[0my\u001b[0m\u001b[0;34m=\u001b[0m\u001b[0mstratify\u001b[0m\u001b[0;34m)\u001b[0m\u001b[0;34m)\u001b[0m\u001b[0;34m\u001b[0m\u001b[0;34m\u001b[0m\u001b[0m\n\u001b[1;32m   2153\u001b[0m \u001b[0;34m\u001b[0m\u001b[0m\n\u001b[0;32m-> 2154\u001b[0;31m     return list(chain.from_iterable((_safe_indexing(a, train),\n\u001b[0m\u001b[1;32m   2155\u001b[0m                                      _safe_indexing(a, test)) for a in arrays))\n\u001b[1;32m   2156\u001b[0m \u001b[0;34m\u001b[0m\u001b[0m\n",
      "\u001b[0;32m~/anaconda3/lib/python3.8/site-packages/sklearn/utils/__init__.py\u001b[0m in \u001b[0;36m_safe_indexing\u001b[0;34m(X, indices, axis)\u001b[0m\n\u001b[1;32m    391\u001b[0m \u001b[0;34m\u001b[0m\u001b[0m\n\u001b[1;32m    392\u001b[0m     \u001b[0;32mif\u001b[0m \u001b[0mhasattr\u001b[0m\u001b[0;34m(\u001b[0m\u001b[0mX\u001b[0m\u001b[0;34m,\u001b[0m \u001b[0;34m\"iloc\"\u001b[0m\u001b[0;34m)\u001b[0m\u001b[0;34m:\u001b[0m\u001b[0;34m\u001b[0m\u001b[0;34m\u001b[0m\u001b[0m\n\u001b[0;32m--> 393\u001b[0;31m         \u001b[0;32mreturn\u001b[0m \u001b[0m_pandas_indexing\u001b[0m\u001b[0;34m(\u001b[0m\u001b[0mX\u001b[0m\u001b[0;34m,\u001b[0m \u001b[0mindices\u001b[0m\u001b[0;34m,\u001b[0m \u001b[0mindices_dtype\u001b[0m\u001b[0;34m,\u001b[0m \u001b[0maxis\u001b[0m\u001b[0;34m=\u001b[0m\u001b[0maxis\u001b[0m\u001b[0;34m)\u001b[0m\u001b[0;34m\u001b[0m\u001b[0;34m\u001b[0m\u001b[0m\n\u001b[0m\u001b[1;32m    394\u001b[0m     \u001b[0;32melif\u001b[0m \u001b[0mhasattr\u001b[0m\u001b[0;34m(\u001b[0m\u001b[0mX\u001b[0m\u001b[0;34m,\u001b[0m \u001b[0;34m\"shape\"\u001b[0m\u001b[0;34m)\u001b[0m\u001b[0;34m:\u001b[0m\u001b[0;34m\u001b[0m\u001b[0;34m\u001b[0m\u001b[0m\n\u001b[1;32m    395\u001b[0m         \u001b[0;32mreturn\u001b[0m \u001b[0m_array_indexing\u001b[0m\u001b[0;34m(\u001b[0m\u001b[0mX\u001b[0m\u001b[0;34m,\u001b[0m \u001b[0mindices\u001b[0m\u001b[0;34m,\u001b[0m \u001b[0mindices_dtype\u001b[0m\u001b[0;34m,\u001b[0m \u001b[0maxis\u001b[0m\u001b[0;34m=\u001b[0m\u001b[0maxis\u001b[0m\u001b[0;34m)\u001b[0m\u001b[0;34m\u001b[0m\u001b[0;34m\u001b[0m\u001b[0m\n",
      "\u001b[0;32m~/anaconda3/lib/python3.8/site-packages/sklearn/utils/__init__.py\u001b[0m in \u001b[0;36m_pandas_indexing\u001b[0;34m(X, key, key_dtype, axis)\u001b[0m\n\u001b[1;32m    193\u001b[0m     \u001b[0;31m# check whether we should index with loc or iloc\u001b[0m\u001b[0;34m\u001b[0m\u001b[0;34m\u001b[0m\u001b[0;34m\u001b[0m\u001b[0m\n\u001b[1;32m    194\u001b[0m     \u001b[0mindexer\u001b[0m \u001b[0;34m=\u001b[0m \u001b[0mX\u001b[0m\u001b[0;34m.\u001b[0m\u001b[0miloc\u001b[0m \u001b[0;32mif\u001b[0m \u001b[0mkey_dtype\u001b[0m \u001b[0;34m==\u001b[0m \u001b[0;34m'int'\u001b[0m \u001b[0;32melse\u001b[0m \u001b[0mX\u001b[0m\u001b[0;34m.\u001b[0m\u001b[0mloc\u001b[0m\u001b[0;34m\u001b[0m\u001b[0;34m\u001b[0m\u001b[0m\n\u001b[0;32m--> 195\u001b[0;31m     \u001b[0;32mreturn\u001b[0m \u001b[0mindexer\u001b[0m\u001b[0;34m[\u001b[0m\u001b[0;34m:\u001b[0m\u001b[0;34m,\u001b[0m \u001b[0mkey\u001b[0m\u001b[0;34m]\u001b[0m \u001b[0;32mif\u001b[0m \u001b[0maxis\u001b[0m \u001b[0;32melse\u001b[0m \u001b[0mindexer\u001b[0m\u001b[0;34m[\u001b[0m\u001b[0mkey\u001b[0m\u001b[0;34m]\u001b[0m\u001b[0;34m\u001b[0m\u001b[0;34m\u001b[0m\u001b[0m\n\u001b[0m\u001b[1;32m    196\u001b[0m \u001b[0;34m\u001b[0m\u001b[0m\n\u001b[1;32m    197\u001b[0m \u001b[0;34m\u001b[0m\u001b[0m\n",
      "\u001b[0;32m~/anaconda3/lib/python3.8/site-packages/pandas/core/indexing.py\u001b[0m in \u001b[0;36m__getitem__\u001b[0;34m(self, key)\u001b[0m\n\u001b[1;32m   1766\u001b[0m \u001b[0;34m\u001b[0m\u001b[0m\n\u001b[1;32m   1767\u001b[0m             \u001b[0mmaybe_callable\u001b[0m \u001b[0;34m=\u001b[0m \u001b[0mcom\u001b[0m\u001b[0;34m.\u001b[0m\u001b[0mapply_if_callable\u001b[0m\u001b[0;34m(\u001b[0m\u001b[0mkey\u001b[0m\u001b[0;34m,\u001b[0m \u001b[0mself\u001b[0m\u001b[0;34m.\u001b[0m\u001b[0mobj\u001b[0m\u001b[0;34m)\u001b[0m\u001b[0;34m\u001b[0m\u001b[0;34m\u001b[0m\u001b[0m\n\u001b[0;32m-> 1768\u001b[0;31m             \u001b[0;32mreturn\u001b[0m \u001b[0mself\u001b[0m\u001b[0;34m.\u001b[0m\u001b[0m_getitem_axis\u001b[0m\u001b[0;34m(\u001b[0m\u001b[0mmaybe_callable\u001b[0m\u001b[0;34m,\u001b[0m \u001b[0maxis\u001b[0m\u001b[0;34m=\u001b[0m\u001b[0maxis\u001b[0m\u001b[0;34m)\u001b[0m\u001b[0;34m\u001b[0m\u001b[0;34m\u001b[0m\u001b[0m\n\u001b[0m\u001b[1;32m   1769\u001b[0m \u001b[0;34m\u001b[0m\u001b[0m\n\u001b[1;32m   1770\u001b[0m     \u001b[0;32mdef\u001b[0m \u001b[0m_is_scalar_access\u001b[0m\u001b[0;34m(\u001b[0m\u001b[0mself\u001b[0m\u001b[0;34m,\u001b[0m \u001b[0mkey\u001b[0m\u001b[0;34m:\u001b[0m \u001b[0mTuple\u001b[0m\u001b[0;34m)\u001b[0m\u001b[0;34m:\u001b[0m\u001b[0;34m\u001b[0m\u001b[0;34m\u001b[0m\u001b[0m\n",
      "\u001b[0;32m~/anaconda3/lib/python3.8/site-packages/pandas/core/indexing.py\u001b[0m in \u001b[0;36m_getitem_axis\u001b[0;34m(self, key, axis)\u001b[0m\n\u001b[1;32m   2127\u001b[0m         \u001b[0;31m# a list of integers\u001b[0m\u001b[0;34m\u001b[0m\u001b[0;34m\u001b[0m\u001b[0;34m\u001b[0m\u001b[0m\n\u001b[1;32m   2128\u001b[0m         \u001b[0;32melif\u001b[0m \u001b[0mis_list_like_indexer\u001b[0m\u001b[0;34m(\u001b[0m\u001b[0mkey\u001b[0m\u001b[0;34m)\u001b[0m\u001b[0;34m:\u001b[0m\u001b[0;34m\u001b[0m\u001b[0;34m\u001b[0m\u001b[0m\n\u001b[0;32m-> 2129\u001b[0;31m             \u001b[0;32mreturn\u001b[0m \u001b[0mself\u001b[0m\u001b[0;34m.\u001b[0m\u001b[0m_get_list_axis\u001b[0m\u001b[0;34m(\u001b[0m\u001b[0mkey\u001b[0m\u001b[0;34m,\u001b[0m \u001b[0maxis\u001b[0m\u001b[0;34m=\u001b[0m\u001b[0maxis\u001b[0m\u001b[0;34m)\u001b[0m\u001b[0;34m\u001b[0m\u001b[0;34m\u001b[0m\u001b[0m\n\u001b[0m\u001b[1;32m   2130\u001b[0m \u001b[0;34m\u001b[0m\u001b[0m\n\u001b[1;32m   2131\u001b[0m         \u001b[0;31m# a single integer\u001b[0m\u001b[0;34m\u001b[0m\u001b[0;34m\u001b[0m\u001b[0;34m\u001b[0m\u001b[0m\n",
      "\u001b[0;32m~/anaconda3/lib/python3.8/site-packages/pandas/core/indexing.py\u001b[0m in \u001b[0;36m_get_list_axis\u001b[0;34m(self, key, axis)\u001b[0m\n\u001b[1;32m   2109\u001b[0m         \"\"\"\n\u001b[1;32m   2110\u001b[0m         \u001b[0;32mtry\u001b[0m\u001b[0;34m:\u001b[0m\u001b[0;34m\u001b[0m\u001b[0;34m\u001b[0m\u001b[0m\n\u001b[0;32m-> 2111\u001b[0;31m             \u001b[0;32mreturn\u001b[0m \u001b[0mself\u001b[0m\u001b[0;34m.\u001b[0m\u001b[0mobj\u001b[0m\u001b[0;34m.\u001b[0m\u001b[0m_take_with_is_copy\u001b[0m\u001b[0;34m(\u001b[0m\u001b[0mkey\u001b[0m\u001b[0;34m,\u001b[0m \u001b[0maxis\u001b[0m\u001b[0;34m=\u001b[0m\u001b[0maxis\u001b[0m\u001b[0;34m)\u001b[0m\u001b[0;34m\u001b[0m\u001b[0;34m\u001b[0m\u001b[0m\n\u001b[0m\u001b[1;32m   2112\u001b[0m         \u001b[0;32mexcept\u001b[0m \u001b[0mIndexError\u001b[0m\u001b[0;34m:\u001b[0m\u001b[0;34m\u001b[0m\u001b[0;34m\u001b[0m\u001b[0m\n\u001b[1;32m   2113\u001b[0m             \u001b[0;31m# re-raise with different error message\u001b[0m\u001b[0;34m\u001b[0m\u001b[0;34m\u001b[0m\u001b[0;34m\u001b[0m\u001b[0m\n",
      "\u001b[0;32m~/anaconda3/lib/python3.8/site-packages/pandas/core/generic.py\u001b[0m in \u001b[0;36m_take_with_is_copy\u001b[0;34m(self, indices, axis, **kwargs)\u001b[0m\n\u001b[1;32m   3407\u001b[0m         \u001b[0mSee\u001b[0m \u001b[0mthe\u001b[0m \u001b[0mdocstring\u001b[0m \u001b[0mof\u001b[0m\u001b[0;31m \u001b[0m\u001b[0;31m`\u001b[0m\u001b[0mtake\u001b[0m\u001b[0;31m`\u001b[0m \u001b[0;32mfor\u001b[0m \u001b[0mfull\u001b[0m \u001b[0mexplanation\u001b[0m \u001b[0mof\u001b[0m \u001b[0mthe\u001b[0m \u001b[0mparameters\u001b[0m\u001b[0;34m.\u001b[0m\u001b[0;34m\u001b[0m\u001b[0;34m\u001b[0m\u001b[0m\n\u001b[1;32m   3408\u001b[0m         \"\"\"\n\u001b[0;32m-> 3409\u001b[0;31m         \u001b[0mresult\u001b[0m \u001b[0;34m=\u001b[0m \u001b[0mself\u001b[0m\u001b[0;34m.\u001b[0m\u001b[0mtake\u001b[0m\u001b[0;34m(\u001b[0m\u001b[0mindices\u001b[0m\u001b[0;34m=\u001b[0m\u001b[0mindices\u001b[0m\u001b[0;34m,\u001b[0m \u001b[0maxis\u001b[0m\u001b[0;34m=\u001b[0m\u001b[0maxis\u001b[0m\u001b[0;34m,\u001b[0m \u001b[0;34m**\u001b[0m\u001b[0mkwargs\u001b[0m\u001b[0;34m)\u001b[0m\u001b[0;34m\u001b[0m\u001b[0;34m\u001b[0m\u001b[0m\n\u001b[0m\u001b[1;32m   3410\u001b[0m         \u001b[0;31m# Maybe set copy if we didn't actually change the index.\u001b[0m\u001b[0;34m\u001b[0m\u001b[0;34m\u001b[0m\u001b[0;34m\u001b[0m\u001b[0m\n\u001b[1;32m   3411\u001b[0m         \u001b[0;32mif\u001b[0m \u001b[0;32mnot\u001b[0m \u001b[0mresult\u001b[0m\u001b[0;34m.\u001b[0m\u001b[0m_get_axis\u001b[0m\u001b[0;34m(\u001b[0m\u001b[0maxis\u001b[0m\u001b[0;34m)\u001b[0m\u001b[0;34m.\u001b[0m\u001b[0mequals\u001b[0m\u001b[0;34m(\u001b[0m\u001b[0mself\u001b[0m\u001b[0;34m.\u001b[0m\u001b[0m_get_axis\u001b[0m\u001b[0;34m(\u001b[0m\u001b[0maxis\u001b[0m\u001b[0;34m)\u001b[0m\u001b[0;34m)\u001b[0m\u001b[0;34m:\u001b[0m\u001b[0;34m\u001b[0m\u001b[0;34m\u001b[0m\u001b[0m\n",
      "\u001b[0;32m~/anaconda3/lib/python3.8/site-packages/pandas/core/generic.py\u001b[0m in \u001b[0;36mtake\u001b[0;34m(self, indices, axis, is_copy, **kwargs)\u001b[0m\n\u001b[1;32m   3392\u001b[0m         \u001b[0mself\u001b[0m\u001b[0;34m.\u001b[0m\u001b[0m_consolidate_inplace\u001b[0m\u001b[0;34m(\u001b[0m\u001b[0;34m)\u001b[0m\u001b[0;34m\u001b[0m\u001b[0;34m\u001b[0m\u001b[0m\n\u001b[1;32m   3393\u001b[0m \u001b[0;34m\u001b[0m\u001b[0m\n\u001b[0;32m-> 3394\u001b[0;31m         new_data = self._data.take(\n\u001b[0m\u001b[1;32m   3395\u001b[0m             \u001b[0mindices\u001b[0m\u001b[0;34m,\u001b[0m \u001b[0maxis\u001b[0m\u001b[0;34m=\u001b[0m\u001b[0mself\u001b[0m\u001b[0;34m.\u001b[0m\u001b[0m_get_block_manager_axis\u001b[0m\u001b[0;34m(\u001b[0m\u001b[0maxis\u001b[0m\u001b[0;34m)\u001b[0m\u001b[0;34m,\u001b[0m \u001b[0mverify\u001b[0m\u001b[0;34m=\u001b[0m\u001b[0;32mTrue\u001b[0m\u001b[0;34m\u001b[0m\u001b[0;34m\u001b[0m\u001b[0m\n\u001b[1;32m   3396\u001b[0m         )\n",
      "\u001b[0;32m~/anaconda3/lib/python3.8/site-packages/pandas/core/internals/managers.py\u001b[0m in \u001b[0;36mtake\u001b[0;34m(self, indexer, axis, verify, convert)\u001b[0m\n\u001b[1;32m   1391\u001b[0m \u001b[0;34m\u001b[0m\u001b[0m\n\u001b[1;32m   1392\u001b[0m         \u001b[0mnew_labels\u001b[0m \u001b[0;34m=\u001b[0m \u001b[0mself\u001b[0m\u001b[0;34m.\u001b[0m\u001b[0maxes\u001b[0m\u001b[0;34m[\u001b[0m\u001b[0maxis\u001b[0m\u001b[0;34m]\u001b[0m\u001b[0;34m.\u001b[0m\u001b[0mtake\u001b[0m\u001b[0;34m(\u001b[0m\u001b[0mindexer\u001b[0m\u001b[0;34m)\u001b[0m\u001b[0;34m\u001b[0m\u001b[0;34m\u001b[0m\u001b[0m\n\u001b[0;32m-> 1393\u001b[0;31m         return self.reindex_indexer(\n\u001b[0m\u001b[1;32m   1394\u001b[0m             \u001b[0mnew_axis\u001b[0m\u001b[0;34m=\u001b[0m\u001b[0mnew_labels\u001b[0m\u001b[0;34m,\u001b[0m \u001b[0mindexer\u001b[0m\u001b[0;34m=\u001b[0m\u001b[0mindexer\u001b[0m\u001b[0;34m,\u001b[0m \u001b[0maxis\u001b[0m\u001b[0;34m=\u001b[0m\u001b[0maxis\u001b[0m\u001b[0;34m,\u001b[0m \u001b[0mallow_dups\u001b[0m\u001b[0;34m=\u001b[0m\u001b[0;32mTrue\u001b[0m\u001b[0;34m\u001b[0m\u001b[0;34m\u001b[0m\u001b[0m\n\u001b[1;32m   1395\u001b[0m         )\n",
      "\u001b[0;32m~/anaconda3/lib/python3.8/site-packages/pandas/core/internals/managers.py\u001b[0m in \u001b[0;36mreindex_indexer\u001b[0;34m(self, new_axis, indexer, axis, fill_value, allow_dups, copy)\u001b[0m\n\u001b[1;32m   1257\u001b[0m             \u001b[0mnew_blocks\u001b[0m \u001b[0;34m=\u001b[0m \u001b[0mself\u001b[0m\u001b[0;34m.\u001b[0m\u001b[0m_slice_take_blocks_ax0\u001b[0m\u001b[0;34m(\u001b[0m\u001b[0mindexer\u001b[0m\u001b[0;34m,\u001b[0m \u001b[0mfill_tuple\u001b[0m\u001b[0;34m=\u001b[0m\u001b[0;34m(\u001b[0m\u001b[0mfill_value\u001b[0m\u001b[0;34m,\u001b[0m\u001b[0;34m)\u001b[0m\u001b[0;34m)\u001b[0m\u001b[0;34m\u001b[0m\u001b[0;34m\u001b[0m\u001b[0m\n\u001b[1;32m   1258\u001b[0m         \u001b[0;32melse\u001b[0m\u001b[0;34m:\u001b[0m\u001b[0;34m\u001b[0m\u001b[0;34m\u001b[0m\u001b[0m\n\u001b[0;32m-> 1259\u001b[0;31m             new_blocks = [\n\u001b[0m\u001b[1;32m   1260\u001b[0m                 blk.take_nd(\n\u001b[1;32m   1261\u001b[0m                     \u001b[0mindexer\u001b[0m\u001b[0;34m,\u001b[0m\u001b[0;34m\u001b[0m\u001b[0;34m\u001b[0m\u001b[0m\n",
      "\u001b[0;32m~/anaconda3/lib/python3.8/site-packages/pandas/core/internals/managers.py\u001b[0m in \u001b[0;36m<listcomp>\u001b[0;34m(.0)\u001b[0m\n\u001b[1;32m   1258\u001b[0m         \u001b[0;32melse\u001b[0m\u001b[0;34m:\u001b[0m\u001b[0;34m\u001b[0m\u001b[0;34m\u001b[0m\u001b[0m\n\u001b[1;32m   1259\u001b[0m             new_blocks = [\n\u001b[0;32m-> 1260\u001b[0;31m                 blk.take_nd(\n\u001b[0m\u001b[1;32m   1261\u001b[0m                     \u001b[0mindexer\u001b[0m\u001b[0;34m,\u001b[0m\u001b[0;34m\u001b[0m\u001b[0;34m\u001b[0m\u001b[0m\n\u001b[1;32m   1262\u001b[0m                     \u001b[0maxis\u001b[0m\u001b[0;34m=\u001b[0m\u001b[0maxis\u001b[0m\u001b[0;34m,\u001b[0m\u001b[0;34m\u001b[0m\u001b[0;34m\u001b[0m\u001b[0m\n",
      "\u001b[0;32m~/anaconda3/lib/python3.8/site-packages/pandas/core/internals/blocks.py\u001b[0m in \u001b[0;36mtake_nd\u001b[0;34m(self, indexer, axis, new_mgr_locs, fill_tuple)\u001b[0m\n\u001b[1;32m   1294\u001b[0m             \u001b[0mallow_fill\u001b[0m \u001b[0;34m=\u001b[0m \u001b[0;32mTrue\u001b[0m\u001b[0;34m\u001b[0m\u001b[0;34m\u001b[0m\u001b[0m\n\u001b[1;32m   1295\u001b[0m \u001b[0;34m\u001b[0m\u001b[0m\n\u001b[0;32m-> 1296\u001b[0;31m         new_values = algos.take_nd(\n\u001b[0m\u001b[1;32m   1297\u001b[0m             \u001b[0mvalues\u001b[0m\u001b[0;34m,\u001b[0m \u001b[0mindexer\u001b[0m\u001b[0;34m,\u001b[0m \u001b[0maxis\u001b[0m\u001b[0;34m=\u001b[0m\u001b[0maxis\u001b[0m\u001b[0;34m,\u001b[0m \u001b[0mallow_fill\u001b[0m\u001b[0;34m=\u001b[0m\u001b[0mallow_fill\u001b[0m\u001b[0;34m,\u001b[0m \u001b[0mfill_value\u001b[0m\u001b[0;34m=\u001b[0m\u001b[0mfill_value\u001b[0m\u001b[0;34m\u001b[0m\u001b[0;34m\u001b[0m\u001b[0m\n\u001b[1;32m   1298\u001b[0m         )\n",
      "\u001b[0;32m~/anaconda3/lib/python3.8/site-packages/pandas/core/algorithms.py\u001b[0m in \u001b[0;36mtake_nd\u001b[0;34m(arr, indexer, axis, out, fill_value, allow_fill)\u001b[0m\n\u001b[1;32m   1660\u001b[0m         \u001b[0marr\u001b[0m\u001b[0;34m.\u001b[0m\u001b[0mndim\u001b[0m\u001b[0;34m,\u001b[0m \u001b[0marr\u001b[0m\u001b[0;34m.\u001b[0m\u001b[0mdtype\u001b[0m\u001b[0;34m,\u001b[0m \u001b[0mout\u001b[0m\u001b[0;34m.\u001b[0m\u001b[0mdtype\u001b[0m\u001b[0;34m,\u001b[0m \u001b[0maxis\u001b[0m\u001b[0;34m=\u001b[0m\u001b[0maxis\u001b[0m\u001b[0;34m,\u001b[0m \u001b[0mmask_info\u001b[0m\u001b[0;34m=\u001b[0m\u001b[0mmask_info\u001b[0m\u001b[0;34m\u001b[0m\u001b[0;34m\u001b[0m\u001b[0m\n\u001b[1;32m   1661\u001b[0m     )\n\u001b[0;32m-> 1662\u001b[0;31m     \u001b[0mfunc\u001b[0m\u001b[0;34m(\u001b[0m\u001b[0marr\u001b[0m\u001b[0;34m,\u001b[0m \u001b[0mindexer\u001b[0m\u001b[0;34m,\u001b[0m \u001b[0mout\u001b[0m\u001b[0;34m,\u001b[0m \u001b[0mfill_value\u001b[0m\u001b[0;34m)\u001b[0m\u001b[0;34m\u001b[0m\u001b[0;34m\u001b[0m\u001b[0m\n\u001b[0m\u001b[1;32m   1663\u001b[0m \u001b[0;34m\u001b[0m\u001b[0m\n\u001b[1;32m   1664\u001b[0m     \u001b[0;32mif\u001b[0m \u001b[0mflip_order\u001b[0m\u001b[0;34m:\u001b[0m\u001b[0;34m\u001b[0m\u001b[0;34m\u001b[0m\u001b[0m\n",
      "\u001b[0;31mKeyboardInterrupt\u001b[0m: "
     ]
    }
   ],
   "source": [
    "#shuffling data\n",
    "x_train,x_val,y_train,y_val = redoSplit(X,Y)\n",
    "x,y = balancing_dataset(x_train,y_train,0.8)\n",
    "x_train_drop,x_test_drop,y_train_drop,y_test_drop = redoSplit(x,y)\n",
    "\n",
    "#simple drop\n",
    "clf_Cat = CatBoostClassifier()\n",
    "# clf_Cat.fit(x_train_drop, y_train_drop, verbose=False)\n",
    "y_hat = clf_Cat.predict(x_test_drop)\n",
    "cm = confusion_matrix(y_test_drop, y_hat)\n",
    "print(\"simple drop\",cm /np.sum(cm,axis=0))\n",
    "\n",
    "#with weights\n",
    "clf = CatBoostClassifier(class_weights = [1,5])\n",
    "# clf.fit(x_train, y_train)\n",
    "train_acc,t_acc = clf.score(x_train, y_train), clf.score(x_val, y_val)\n",
    "y_hat = clf.predict(x_val)\n",
    "cm = confusion_matrix(y_val, y_hat)\n",
    "print(\"weighted\",cm /np.sum(cm,axis=0))\n",
    "\n",
    "#with inverted weights?\n",
    "clf_catInvW = CatBoostClassifier(class_weights = [5,1],early_stopping_rounds=5)\n",
    "# clf_catInvW.fit(x_train, y_train)\n",
    "train_acc,t_acc = clf_catInvW.score(x_train, y_train), clf_catInvW.score(x_val, y_val)\n",
    "y_hat = clf_catInvW.predict(x_val)\n",
    "cm = confusion_matrix(y_val, y_hat)\n",
    "print(\"inverted weights\",cm /np.sum(cm,axis=0))\n",
    "\n",
    "#with inverted weights?\n",
    "clf_catInvAuto = CatBoostClassifier(auto_class_weights = 'Balanced',early_stopping_rounds=5)\n",
    "# clf_catInvAuto.fit(x_train, y_train)\n",
    "y_hat = clf_catInvAuto.predict(x_val)\n",
    "cm = confusion_matrix(y_val, y_hat)\n",
    "print(\"auto weigthed\",cm /np.sum(cm,axis=0))"
   ]
  },
  {
   "cell_type": "code",
   "execution_count": null,
   "metadata": {},
   "outputs": [],
   "source": [
    "cols[np.argsort(clf_catInvW.feature_importances_)]"
   ]
  },
  {
   "cell_type": "markdown",
   "metadata": {},
   "source": [
    "### Deep Learning"
   ]
  },
  {
   "cell_type": "markdown",
   "metadata": {},
   "source": [
    "#### AutoML"
   ]
  },
  {
   "cell_type": "code",
   "execution_count": 12,
   "metadata": {
    "scrolled": true
   },
   "outputs": [
    {
     "name": "stdout",
     "output_type": "stream",
     "text": [
      "INFO:tensorflow:Reloading Oracle from existing project ./untitled_project/oracle.json\n",
      "INFO:tensorflow:Reloading Tuner from ./untitled_project/tuner0.json\n",
      "Search space summary\n",
      "Default search space size: 7\n",
      "input_units (Int)\n",
      "{'default': None, 'conditions': [], 'min_value': 50, 'max_value': 200, 'step': 50, 'sampling': None}\n",
      "dropout_rate (Float)\n",
      "{'default': 0.0, 'conditions': [], 'min_value': 0.0, 'max_value': 0.5, 'step': 0.1, 'sampling': None}\n",
      "n_layers (Int)\n",
      "{'default': None, 'conditions': [], 'min_value': 1, 'max_value': 2, 'step': 1, 'sampling': None}\n",
      "layer_0_units (Int)\n",
      "{'default': None, 'conditions': [], 'min_value': 10, 'max_value': 150, 'step': 30, 'sampling': None}\n",
      "dropout_0_rate (Float)\n",
      "{'default': 0.0, 'conditions': [], 'min_value': 0.0, 'max_value': 0.5, 'step': 0.1, 'sampling': None}\n",
      "layer_1_units (Int)\n",
      "{'default': None, 'conditions': [], 'min_value': 10, 'max_value': 150, 'step': 30, 'sampling': None}\n",
      "dropout_1_rate (Float)\n",
      "{'default': 0.0, 'conditions': [], 'min_value': 0.0, 'max_value': 0.5, 'step': 0.1, 'sampling': None}\n",
      "INFO:tensorflow:Oracle triggered exit\n",
      "Results summary\n",
      "Results in ./untitled_project\n",
      "Showing 10 best trials\n",
      "Objective(name='accuracy', direction='max')\n",
      "Trial summary\n",
      "Hyperparameters:\n",
      "input_units: 150\n",
      "dropout_rate: 0.1\n",
      "n_layers: 2\n",
      "layer_0_units: 130\n",
      "dropout_0_rate: 0.30000000000000004\n",
      "layer_1_units: 10\n",
      "dropout_1_rate: 0.0\n",
      "Score: 0.5991955399513245\n",
      "Trial summary\n",
      "Hyperparameters:\n",
      "input_units: 100\n",
      "dropout_rate: 0.2\n",
      "n_layers: 2\n",
      "layer_0_units: 70\n",
      "dropout_0_rate: 0.1\n",
      "layer_1_units: 40\n",
      "dropout_1_rate: 0.30000000000000004\n",
      "Score: 0.5966336131095886\n",
      "Trial summary\n",
      "Hyperparameters:\n",
      "input_units: 150\n",
      "dropout_rate: 0.2\n",
      "n_layers: 1\n",
      "layer_0_units: 130\n",
      "dropout_0_rate: 0.30000000000000004\n",
      "layer_1_units: 40\n",
      "dropout_1_rate: 0.0\n",
      "Score: 0.5940366387367249\n",
      "Trial summary\n",
      "Hyperparameters:\n",
      "input_units: 150\n",
      "dropout_rate: 0.30000000000000004\n",
      "n_layers: 2\n",
      "layer_0_units: 130\n",
      "dropout_0_rate: 0.30000000000000004\n",
      "layer_1_units: 70\n",
      "dropout_1_rate: 0.2\n",
      "Score: 0.593380868434906\n",
      "Trial summary\n",
      "Hyperparameters:\n",
      "input_units: 150\n",
      "dropout_rate: 0.30000000000000004\n",
      "n_layers: 1\n",
      "layer_0_units: 100\n",
      "dropout_0_rate: 0.0\n",
      "layer_1_units: 100\n",
      "dropout_1_rate: 0.30000000000000004\n",
      "Score: 0.5913085341453552\n",
      "Trial summary\n",
      "Hyperparameters:\n",
      "input_units: 150\n",
      "dropout_rate: 0.2\n",
      "n_layers: 1\n",
      "layer_0_units: 70\n",
      "dropout_0_rate: 0.30000000000000004\n",
      "layer_1_units: 100\n",
      "dropout_1_rate: 0.5\n",
      "Score: 0.5894023776054382\n",
      "Trial summary\n",
      "Hyperparameters:\n",
      "input_units: 100\n",
      "dropout_rate: 0.4\n",
      "n_layers: 1\n",
      "layer_0_units: 130\n",
      "dropout_0_rate: 0.4\n",
      "layer_1_units: 40\n",
      "dropout_1_rate: 0.2\n",
      "Score: 0.5870502591133118\n",
      "Trial summary\n",
      "Hyperparameters:\n",
      "input_units: 100\n",
      "dropout_rate: 0.0\n",
      "n_layers: 2\n",
      "layer_0_units: 70\n",
      "dropout_0_rate: 0.5\n",
      "layer_1_units: 100\n",
      "dropout_1_rate: 0.1\n",
      "Score: 0.5857211351394653\n",
      "Trial summary\n",
      "Hyperparameters:\n",
      "input_units: 100\n",
      "dropout_rate: 0.2\n",
      "n_layers: 1\n",
      "layer_0_units: 10\n",
      "dropout_0_rate: 0.1\n",
      "layer_1_units: 130\n",
      "dropout_1_rate: 0.1\n",
      "Score: 0.5829055905342102\n",
      "Trial summary\n",
      "Hyperparameters:\n",
      "input_units: 150\n",
      "dropout_rate: 0.2\n",
      "n_layers: 2\n",
      "layer_0_units: 10\n",
      "dropout_0_rate: 0.2\n",
      "layer_1_units: 10\n",
      "dropout_1_rate: 0.4\n",
      "Score: 0.5146766901016235\n"
     ]
    }
   ],
   "source": [
    "LOG_DIR = f\"{int(time.time())}\"\n",
    "\n",
    "# tensorboard = TensorBoard(log_dir=LOG_DIR)\n",
    "\n",
    "def build_model(hp):  # random search passes this hyperparameter() object \n",
    "    model = keras.models.Sequential()\n",
    "\n",
    "    model.add(Dense(hp.Int('input_units',min_value=50, max_value=200, step=50), \n",
    "                    input_shape=X.shape[1:],\n",
    "                    activation='relu'))\n",
    "\n",
    "    model.add( Dropout(hp.Float('dropout_rate',\n",
    "                                    min_value=0.0,\n",
    "                                    max_value=0.5,\n",
    "                                    step=0.1) ) )\n",
    "    \n",
    "    for i in range(hp.Int('n_layers', 1, 2)):  # adding variation of layers.\n",
    "        model.add(Dense(hp.Int(f'layer_{i}_units',\n",
    "                                min_value=10,\n",
    "                                max_value=150,\n",
    "                                step=30), \n",
    "                                activation='relu'))\n",
    "    \n",
    "        model.add( Dropout(hp.Float(f'dropout_{i}_rate',\n",
    "                                    min_value=0.0,\n",
    "                                    max_value=0.5,\n",
    "                                    step=0.1) ) )\n",
    "    \n",
    "    model.add(Dense(1, activation='sigmoid'))\n",
    "\n",
    "    model.compile(loss='binary_crossentropy', \n",
    "              optimizer=tensorflow.keras.optimizers.Adam(),\n",
    "              metrics =['accuracy'])\n",
    "              \n",
    "    return model\n",
    "                  \n",
    "\n",
    "tuner = RandomSearch(\n",
    "    build_model,\n",
    "    objective='accuracy',\n",
    "    max_trials=10,  # how many variations on model?\n",
    "    executions_per_trial=1) # how many trials per variation? (same model could perform differently)\n",
    "\n",
    "\n",
    "tuner.search_space_summary()\n",
    "\n",
    "tuner.search(x=X,\n",
    "             y=Y,\n",
    "             epochs=5,\n",
    "             batch_size=64)\n",
    "\n",
    "tuner.results_summary()"
   ]
  },
  {
   "cell_type": "markdown",
   "metadata": {},
   "source": [
    "#### DL model"
   ]
  },
  {
   "cell_type": "code",
   "execution_count": 13,
   "metadata": {
    "scrolled": true
   },
   "outputs": [
    {
     "name": "stdout",
     "output_type": "stream",
     "text": [
      "Epoch 1/1000\n",
      "17114/17114 [==============================] - 26s 1ms/step - loss: 0.4632 - accuracy: 0.8071\n",
      "Epoch 2/1000\n",
      "17114/17114 [==============================] - 26s 2ms/step - loss: 0.4558 - accuracy: 0.8093\n",
      "Epoch 3/1000\n",
      "17114/17114 [==============================] - 26s 2ms/step - loss: 0.4538 - accuracy: 0.8101\n",
      "Epoch 4/1000\n",
      "17114/17114 [==============================] - 26s 2ms/step - loss: 0.4525 - accuracy: 0.8106\n",
      "Epoch 5/1000\n",
      "17114/17114 [==============================] - 26s 1ms/step - loss: 0.4514 - accuracy: 0.8111\n",
      "Epoch 6/1000\n",
      "17114/17114 [==============================] - 26s 2ms/step - loss: 0.4507 - accuracy: 0.8114\n",
      "Epoch 7/1000\n",
      "17114/17114 [==============================] - 25s 1ms/step - loss: 0.4499 - accuracy: 0.8118\n",
      "Epoch 8/1000\n",
      "17114/17114 [==============================] - 27s 2ms/step - loss: 0.4494 - accuracy: 0.8119\n",
      "Epoch 9/1000\n",
      "17114/17114 [==============================] - 26s 2ms/step - loss: 0.4489 - accuracy: 0.8121\n",
      "Epoch 10/1000\n",
      "17114/17114 [==============================] - 33s 2ms/step - loss: 0.4484 - accuracy: 0.8124\n",
      "Epoch 11/1000\n",
      "17114/17114 [==============================] - 26s 2ms/step - loss: 0.4480 - accuracy: 0.8124\n",
      "Epoch 12/1000\n",
      "17114/17114 [==============================] - 27s 2ms/step - loss: 0.4478 - accuracy: 0.8126\n",
      "Epoch 13/1000\n",
      "17114/17114 [==============================] - 27s 2ms/step - loss: 0.4475 - accuracy: 0.8127\n",
      "Epoch 14/1000\n",
      "17114/17114 [==============================] - 28s 2ms/step - loss: 0.4472 - accuracy: 0.8128\n",
      "Epoch 15/1000\n",
      "17114/17114 [==============================] - 27s 2ms/step - loss: 0.4469 - accuracy: 0.8129\n",
      "Epoch 16/1000\n",
      "17114/17114 [==============================] - 32s 2ms/step - loss: 0.4468 - accuracy: 0.8131\n",
      "Epoch 17/1000\n",
      "17114/17114 [==============================] - 47s 3ms/step - loss: 0.4465 - accuracy: 0.8131\n",
      "Epoch 18/1000\n",
      "17114/17114 [==============================] - 37s 2ms/step - loss: 0.4463 - accuracy: 0.8133\n",
      "Epoch 19/1000\n",
      "17114/17114 [==============================] - 25s 1ms/step - loss: 0.4462 - accuracy: 0.8133\n",
      "Epoch 20/1000\n",
      "17114/17114 [==============================] - 26s 2ms/step - loss: 0.4459 - accuracy: 0.8134\n",
      "Epoch 21/1000\n",
      "17114/17114 [==============================] - 29s 2ms/step - loss: 0.4458 - accuracy: 0.8135\n",
      "Epoch 22/1000\n",
      "17114/17114 [==============================] - 25s 1ms/step - loss: 0.4457 - accuracy: 0.8136\n",
      "Epoch 23/1000\n",
      "17114/17114 [==============================] - 24s 1ms/step - loss: 0.4455 - accuracy: 0.8137\n",
      "Epoch 24/1000\n",
      "17114/17114 [==============================] - 25s 1ms/step - loss: 0.4454 - accuracy: 0.8136\n",
      "Epoch 25/1000\n",
      "17114/17114 [==============================] - 25s 1ms/step - loss: 0.4453 - accuracy: 0.8137\n",
      "Epoch 26/1000\n",
      "17114/17114 [==============================] - 25s 1ms/step - loss: 0.4451 - accuracy: 0.8138\n",
      "Epoch 27/1000\n",
      "17114/17114 [==============================] - 25s 1ms/step - loss: 0.4450 - accuracy: 0.8139\n",
      "Epoch 28/1000\n",
      "17114/17114 [==============================] - 24s 1ms/step - loss: 0.4450 - accuracy: 0.8139\n",
      "Epoch 29/1000\n",
      "17114/17114 [==============================] - 25s 1ms/step - loss: 0.4448 - accuracy: 0.8140\n",
      "Epoch 30/1000\n",
      "17114/17114 [==============================] - 25s 1ms/step - loss: 0.4447 - accuracy: 0.8139\n",
      "Epoch 31/1000\n",
      "17114/17114 [==============================] - 24s 1ms/step - loss: 0.4446 - accuracy: 0.8141\n",
      "Epoch 32/1000\n",
      "17114/17114 [==============================] - 25s 1ms/step - loss: 0.4446 - accuracy: 0.8140\n",
      "Epoch 33/1000\n",
      "17114/17114 [==============================] - 25s 1ms/step - loss: 0.4444 - accuracy: 0.8142\n",
      "Epoch 34/1000\n",
      "17114/17114 [==============================] - 24s 1ms/step - loss: 0.4444 - accuracy: 0.8142\n",
      "Epoch 35/1000\n",
      "17114/17114 [==============================] - 24s 1ms/step - loss: 0.4442 - accuracy: 0.8142\n",
      "Epoch 36/1000\n",
      "17114/17114 [==============================] - 25s 1ms/step - loss: 0.4442 - accuracy: 0.8143\n",
      "Epoch 37/1000\n",
      "17114/17114 [==============================] - 24s 1ms/step - loss: 0.4441 - accuracy: 0.8143\n",
      "Epoch 38/1000\n",
      "17114/17114 [==============================] - 25s 1ms/step - loss: 0.4440 - accuracy: 0.8143\n",
      "Epoch 39/1000\n",
      "17114/17114 [==============================] - 25s 1ms/step - loss: 0.4440 - accuracy: 0.8143\n",
      "Epoch 40/1000\n",
      "17114/17114 [==============================] - 24s 1ms/step - loss: 0.4439 - accuracy: 0.8144\n",
      "Epoch 41/1000\n",
      "17114/17114 [==============================] - 25s 1ms/step - loss: 0.4438 - accuracy: 0.8144\n",
      "Epoch 42/1000\n",
      "17114/17114 [==============================] - 25s 1ms/step - loss: 0.4438 - accuracy: 0.8145\n",
      "Epoch 43/1000\n",
      "17114/17114 [==============================] - 25s 1ms/step - loss: 0.4437 - accuracy: 0.8144\n",
      "Epoch 44/1000\n",
      "17114/17114 [==============================] - 25s 1ms/step - loss: 0.4437 - accuracy: 0.8144\n",
      "Epoch 45/1000\n",
      "17114/17114 [==============================] - 24s 1ms/step - loss: 0.4436 - accuracy: 0.8146\n",
      "Epoch 46/1000\n",
      "17114/17114 [==============================] - 25s 1ms/step - loss: 0.4435 - accuracy: 0.8146\n",
      "Epoch 47/1000\n",
      "17114/17114 [==============================] - 25s 1ms/step - loss: 0.4434 - accuracy: 0.8145\n",
      "Epoch 48/1000\n",
      "17114/17114 [==============================] - 25s 1ms/step - loss: 0.4434 - accuracy: 0.8147\n",
      "Epoch 49/1000\n",
      "17114/17114 [==============================] - 25s 1ms/step - loss: 0.4434 - accuracy: 0.8146\n",
      "\n",
      "Epoch 00049: ReduceLROnPlateau reducing learning rate to 0.0005000000237487257.\n",
      "Epoch 50/1000\n",
      "17114/17114 [==============================] - 24s 1ms/step - loss: 0.4419 - accuracy: 0.8152\n",
      "Epoch 51/1000\n",
      "17114/17114 [==============================] - 25s 1ms/step - loss: 0.4418 - accuracy: 0.8153\n",
      "Epoch 52/1000\n",
      "17114/17114 [==============================] - 25s 1ms/step - loss: 0.4416 - accuracy: 0.8153\n",
      "Epoch 53/1000\n",
      "17114/17114 [==============================] - 24s 1ms/step - loss: 0.4415 - accuracy: 0.8154\n",
      "Epoch 54/1000\n",
      "17114/17114 [==============================] - 25s 1ms/step - loss: 0.4415 - accuracy: 0.8154\n",
      "Epoch 55/1000\n",
      "17114/17114 [==============================] - 24s 1ms/step - loss: 0.4414 - accuracy: 0.8155\n",
      "Epoch 56/1000\n",
      "17114/17114 [==============================] - 25s 1ms/step - loss: 0.4415 - accuracy: 0.8155\n",
      "Epoch 57/1000\n",
      "17114/17114 [==============================] - 24s 1ms/step - loss: 0.4414 - accuracy: 0.8155\n",
      "Epoch 58/1000\n",
      "17114/17114 [==============================] - 25s 1ms/step - loss: 0.4414 - accuracy: 0.8155\n",
      "\n",
      "Epoch 00058: ReduceLROnPlateau reducing learning rate to 0.0002500000118743628.\n",
      "Epoch 59/1000\n",
      "17114/17114 [==============================] - 25s 1ms/step - loss: 0.4406 - accuracy: 0.8159\n",
      "Epoch 60/1000\n",
      "17114/17114 [==============================] - 25s 1ms/step - loss: 0.4404 - accuracy: 0.8158\n",
      "Epoch 61/1000\n",
      "17114/17114 [==============================] - 25s 1ms/step - loss: 0.4404 - accuracy: 0.8160\n",
      "Epoch 62/1000\n",
      "17114/17114 [==============================] - 25s 1ms/step - loss: 0.4404 - accuracy: 0.8159\n",
      "Epoch 63/1000\n",
      "17114/17114 [==============================] - 24s 1ms/step - loss: 0.4403 - accuracy: 0.8160\n",
      "\n",
      "Epoch 00063: ReduceLROnPlateau reducing learning rate to 0.0001250000059371814.\n",
      "Epoch 64/1000\n",
      "17114/17114 [==============================] - 25s 1ms/step - loss: 0.4399 - accuracy: 0.8161\n",
      "Epoch 65/1000\n",
      "17114/17114 [==============================] - 24s 1ms/step - loss: 0.4399 - accuracy: 0.8161\n",
      "Epoch 66/1000\n",
      "17114/17114 [==============================] - 25s 1ms/step - loss: 0.4398 - accuracy: 0.8162\n",
      "Epoch 67/1000\n",
      "17114/17114 [==============================] - 25s 1ms/step - loss: 0.4398 - accuracy: 0.8163\n",
      "Epoch 68/1000\n",
      "17114/17114 [==============================] - 25s 1ms/step - loss: 0.4398 - accuracy: 0.8161\n",
      "Epoch 69/1000\n",
      "17114/17114 [==============================] - 25s 1ms/step - loss: 0.4398 - accuracy: 0.8162\n",
      "\n",
      "Epoch 00069: ReduceLROnPlateau reducing learning rate to 6.25000029685907e-05.\n",
      "Epoch 70/1000\n",
      "17114/17114 [==============================] - 27s 2ms/step - loss: 0.4396 - accuracy: 0.8163\n",
      "Epoch 71/1000\n",
      "17114/17114 [==============================] - 27s 2ms/step - loss: 0.4395 - accuracy: 0.8163\n",
      "Epoch 72/1000\n",
      "17114/17114 [==============================] - 27s 2ms/step - loss: 0.4395 - accuracy: 0.8163\n",
      "Epoch 73/1000\n"
     ]
    },
    {
     "name": "stdout",
     "output_type": "stream",
     "text": [
      "17114/17114 [==============================] - 26s 2ms/step - loss: 0.4395 - accuracy: 0.8164\n",
      "\n",
      "Epoch 00073: ReduceLROnPlateau reducing learning rate to 3.125000148429535e-05.\n",
      "Epoch 74/1000\n",
      "17114/17114 [==============================] - 25s 1ms/step - loss: 0.4394 - accuracy: 0.8165\n",
      "Epoch 75/1000\n",
      "17114/17114 [==============================] - 26s 2ms/step - loss: 0.4394 - accuracy: 0.8165\n",
      "Epoch 76/1000\n",
      "17114/17114 [==============================] - 26s 2ms/step - loss: 0.4394 - accuracy: 0.8164\n",
      "Epoch 77/1000\n",
      "17114/17114 [==============================] - 26s 2ms/step - loss: 0.4393 - accuracy: 0.8164\n",
      "\n",
      "Epoch 00077: ReduceLROnPlateau reducing learning rate to 1.5625000742147677e-05.\n",
      "Epoch 78/1000\n",
      "17114/17114 [==============================] - 26s 2ms/step - loss: 0.4393 - accuracy: 0.8164\n",
      "Epoch 79/1000\n",
      "17114/17114 [==============================] - 26s 2ms/step - loss: 0.4393 - accuracy: 0.8165\n",
      "Epoch 80/1000\n",
      "17114/17114 [==============================] - 26s 2ms/step - loss: 0.4393 - accuracy: 0.8164\n",
      "Epoch 81/1000\n",
      "17114/17114 [==============================] - 26s 2ms/step - loss: 0.4392 - accuracy: 0.8165\n",
      "Epoch 82/1000\n",
      "17114/17114 [==============================] - 26s 2ms/step - loss: 0.4393 - accuracy: 0.8165\n",
      "Epoch 83/1000\n",
      "17114/17114 [==============================] - 26s 2ms/step - loss: 0.4393 - accuracy: 0.8165\n",
      "Epoch 84/1000\n",
      "17114/17114 [==============================] - 26s 2ms/step - loss: 0.4392 - accuracy: 0.8164\n",
      "\n",
      "Epoch 00084: ReduceLROnPlateau reducing learning rate to 7.812500371073838e-06.\n",
      "Epoch 85/1000\n",
      "17114/17114 [==============================] - 26s 1ms/step - loss: 0.4392 - accuracy: 0.8165\n",
      "Epoch 86/1000\n",
      "17114/17114 [==============================] - 26s 2ms/step - loss: 0.4392 - accuracy: 0.8165\n",
      "Epoch 87/1000\n",
      "17114/17114 [==============================] - 26s 2ms/step - loss: 0.4393 - accuracy: 0.8165\n",
      "\n",
      "Epoch 00087: ReduceLROnPlateau reducing learning rate to 3.906250185536919e-06.\n",
      "Epoch 88/1000\n",
      "17114/17114 [==============================] - 26s 2ms/step - loss: 0.4392 - accuracy: 0.8164\n",
      "Epoch 89/1000\n",
      "17114/17114 [==============================] - 26s 2ms/step - loss: 0.4392 - accuracy: 0.8164\n",
      "Epoch 90/1000\n",
      "17114/17114 [==============================] - 26s 1ms/step - loss: 0.4392 - accuracy: 0.8165\n",
      "\n",
      "Epoch 00090: ReduceLROnPlateau reducing learning rate to 1.9531250927684596e-06.\n",
      "Epoch 91/1000\n",
      "17114/17114 [==============================] - 26s 2ms/step - loss: 0.4392 - accuracy: 0.8165\n",
      "Epoch 92/1000\n",
      "17114/17114 [==============================] - 26s 2ms/step - loss: 0.4392 - accuracy: 0.8165\n",
      "Epoch 93/1000\n",
      "17114/17114 [==============================] - 26s 2ms/step - loss: 0.4392 - accuracy: 0.8165\n",
      "\n",
      "Epoch 00093: ReduceLROnPlateau reducing learning rate to 9.765625463842298e-07.\n",
      "Epoch 94/1000\n",
      "17114/17114 [==============================] - 26s 2ms/step - loss: 0.4391 - accuracy: 0.8165\n",
      "Epoch 95/1000\n",
      "17114/17114 [==============================] - 27s 2ms/step - loss: 0.4391 - accuracy: 0.8165\n",
      "Epoch 96/1000\n",
      "17114/17114 [==============================] - 26s 2ms/step - loss: 0.4392 - accuracy: 0.8165\n",
      "Epoch 97/1000\n",
      "17114/17114 [==============================] - 26s 2ms/step - loss: 0.4391 - accuracy: 0.8166\n",
      "\n",
      "Epoch 00097: ReduceLROnPlateau reducing learning rate to 4.882812731921149e-07.\n",
      "Epoch 98/1000\n",
      "17114/17114 [==============================] - 26s 2ms/step - loss: 0.4391 - accuracy: 0.8165\n",
      "Epoch 99/1000\n",
      "17114/17114 [==============================] - 26s 2ms/step - loss: 0.4392 - accuracy: 0.8164\n",
      "Epoch 100/1000\n",
      "17114/17114 [==============================] - 26s 2ms/step - loss: 0.4392 - accuracy: 0.8164\n",
      "\n",
      "Epoch 00100: ReduceLROnPlateau reducing learning rate to 2.4414063659605745e-07.\n",
      "Epoch 101/1000\n",
      "17114/17114 [==============================] - 26s 2ms/step - loss: 0.4392 - accuracy: 0.8164\n",
      "Epoch 102/1000\n",
      "17114/17114 [==============================] - 26s 2ms/step - loss: 0.4392 - accuracy: 0.8165\n",
      "Epoch 103/1000\n",
      "17114/17114 [==============================] - 26s 2ms/step - loss: 0.4392 - accuracy: 0.8165\n",
      "\n",
      "Epoch 00103: ReduceLROnPlateau reducing learning rate to 1.2207031829802872e-07.\n",
      "Epoch 104/1000\n",
      "17114/17114 [==============================] - 26s 2ms/step - loss: 0.4392 - accuracy: 0.8165\n",
      "Epoch 00104: early stopping\n"
     ]
    },
    {
     "data": {
      "text/plain": [
       "<tensorflow.python.keras.callbacks.History at 0x7faf020ab760>"
      ]
     },
     "execution_count": 13,
     "metadata": {},
     "output_type": "execute_result"
    }
   ],
   "source": [
    "def build_model():  # random search passes this hyperparameter() object \n",
    "    model = keras.models.Sequential()\n",
    "\n",
    "    model.add(Dense(200, input_shape=X.shape[1:], activation='relu'))\n",
    "    model.add(Dense(100, activation='relu'))\n",
    "    model.add( Dropout( 0.1 ) )\n",
    "    model.add(Dense(70, activation='relu'))\n",
    "    model.add( Dropout( 0.4 ) )\n",
    "    model.add(Dense(1, activation='sigmoid'))\n",
    "\n",
    "    model.compile(loss='binary_crossentropy', \n",
    "              optimizer=tensorflow.keras.optimizers.Adam(),\n",
    "              metrics =['accuracy'])\n",
    "              \n",
    "    return model\n",
    "                  \n",
    "\n",
    "model = build_model()\n",
    "\n",
    "early_stopping = tf.keras.callbacks.EarlyStopping(monitor='loss', patience=10, verbose=1)\n",
    "reducer = tf.keras.callbacks.ReduceLROnPlateau( monitor='loss', factor=0.5, patience=3, verbose=1, mode='min')\n",
    "\n",
    "\n",
    "model.fit(X,Y, callbacks=[early_stopping, reducer], batch_size=256,verbose=1,epochs=1000 )"
   ]
  },
  {
   "cell_type": "code",
   "execution_count": 14,
   "metadata": {
    "scrolled": false
   },
   "outputs": [
    {
     "name": "stderr",
     "output_type": "stream",
     "text": [
      "/Users/Diego/anaconda3/lib/python3.8/site-packages/tensorflow/python/keras/engine/sequential.py:455: UserWarning: `model.predict_classes()` is deprecated and will be removed after 2021-01-01. Please use instead:* `np.argmax(model.predict(x), axis=-1)`,   if your model does multi-class classification   (e.g. if it uses a `softmax` last-layer activation).* `(model.predict(x) > 0.5).astype(\"int32\")`,   if your model does binary classification   (e.g. if it uses a `sigmoid` last-layer activation).\n",
      "  warnings.warn('`model.predict_classes()` is deprecated and '\n"
     ]
    },
    {
     "name": "stdout",
     "output_type": "stream",
     "text": [
      "Test accuracy 0.816284158982064\n"
     ]
    }
   ],
   "source": [
    "y_hat = model.predict_classes(x_real_test)\n",
    "print(\"Test accuracy\", sklearn.metrics.accuracy_score(y_real_test, y_hat))"
   ]
  },
  {
   "cell_type": "markdown",
   "metadata": {},
   "source": [
    "### Confusion Matrix"
   ]
  },
  {
   "cell_type": "code",
   "execution_count": 21,
   "metadata": {},
   "outputs": [
    {
     "data": {
      "text/plain": [
       "array([[0.90278662, 0.69488369],\n",
       "       [0.09721338, 0.30511631]])"
      ]
     },
     "execution_count": 21,
     "metadata": {},
     "output_type": "execute_result"
    }
   ],
   "source": [
    "y_hat = clf.predict(x_real_test)\n",
    "cm = confusion_matrix(y_real_test, y_hat)\n",
    "cm /np.sum(cm,axis=0)"
   ]
  },
  {
   "cell_type": "markdown",
   "metadata": {},
   "source": [
    "### Precision Recall Curve\n"
   ]
  },
  {
   "cell_type": "code",
   "execution_count": 16,
   "metadata": {},
   "outputs": [
    {
     "data": {
      "text/plain": [
       "<matplotlib.legend.Legend at 0x7facb4745cd0>"
      ]
     },
     "execution_count": 16,
     "metadata": {},
     "output_type": "execute_result"
    },
    {
     "data": {
      "image/png": "[encoded data removed]",
      "text/plain": [
       "<Figure size 1440x1080 with 2 Axes>"
      ]
     },
     "metadata": {
      "needs_background": "light"
     },
     "output_type": "display_data"
    }
   ],
   "source": [
    "y_train_pred = model.predict(X)\n",
    "train_precision, train_recall, _ = precision_recall_curve(Y, y_train_pred)\n",
    "train_ap = average_precision_score(Y, y_train_pred)\n",
    "y_test_pred = model.predict(x_real_test)\n",
    "test_precision, test_recall, _ = precision_recall_curve(y_real_test, y_test_pred)\n",
    "test_ap = average_precision_score(y_real_test, y_test_pred)\n",
    "\n",
    "\n",
    "plt.figure(figsize=(20, 15))\n",
    "\n",
    "axs = plt.subplot(2,2,1)\n",
    "axs.set_title('Train Precision Recall Curve')\n",
    "axs.set_xlabel('Recall')\n",
    "axs.set_ylabel('Precission')\n",
    "axs.plot(train_recall, train_precision, label = 'AP = {:.4f}'.format(train_ap))\n",
    "axs.legend()\n",
    "\n",
    "axs = plt.subplot(2,2,2)\n",
    "axs.set_title('Test Precision Recall Curve')\n",
    "axs.set_xlabel('Recall')\n",
    "axs.set_ylabel('Precission')\n",
    "axs.plot(test_recall, test_precision, label = 'AP = {:.4f}'.format(test_ap))\n",
    "axs.legend()"
   ]
  },
  {
   "cell_type": "markdown",
   "metadata": {},
   "source": [
    "### ROC curve"
   ]
  },
  {
   "cell_type": "code",
   "execution_count": 17,
   "metadata": {},
   "outputs": [
    {
     "data": {
      "image/png": "[encoded data removed]",
      "text/plain": [
       "<Figure size 1440x1080 with 2 Axes>"
      ]
     },
     "metadata": {
      "needs_background": "light"
     },
     "output_type": "display_data"
    }
   ],
   "source": [
    "train_fpr, train_tpr, _ = roc_curve(Y, y_train_pred)\n",
    "train_auc = auc(train_fpr, train_tpr)\n",
    "\n",
    "test_fpr, test_tpr, _ = roc_curve(y_real_test, y_test_pred)\n",
    "test_auc = auc(test_fpr, test_tpr)\n",
    "\n",
    "plt.figure(figsize=(20, 15))\n",
    "\n",
    "axs = plt.subplot(2,2,1)\n",
    "axs.set_title('Train ROC Curve')\n",
    "axs.set_xlabel('False Positive Rate')\n",
    "axs.set_ylabel('True Positive Rate')\n",
    "axs.plot(train_fpr, train_tpr, label = 'AUC = {:.4f}'.format(train_auc))\n",
    "axs.legend()\n",
    "\n",
    "axs = plt.subplot(2,2,2)\n",
    "axs.set_title('Test ROC Curve')\n",
    "axs.set_xlabel('False Positive Rate')\n",
    "axs.set_ylabel('True Positive Rate')\n",
    "axs.plot(test_fpr, test_tpr, label = 'AUC = {:.4f}'.format(test_auc))\n",
    "axs.legend()\n",
    "plt.show()"
   ]
  }
 ],
 "metadata": {
  "kernelspec": {
   "display_name": "Python 3",
   "language": "python",
   "name": "python3"
  },
  "language_info": {
   "codemirror_mode": {
    "name": "ipython",
    "version": 3
   },
   "file_extension": ".py",
   "mimetype": "text/x-python",
   "name": "python",
   "nbconvert_exporter": "python",
   "pygments_lexer": "ipython3",
   "version": "3.8.3"
  }
 },
 "nbformat": 4,
 "nbformat_minor": 4
}
